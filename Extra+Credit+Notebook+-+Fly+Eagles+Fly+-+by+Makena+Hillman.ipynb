{
 "cells": [
  {
   "cell_type": "markdown",
   "metadata": {},
   "source": [
    "# Extra Credit Notebook: FLY Eagles FLY! or not (?!)\n",
    "#### Created by: Makena Hillman 12/6/23"
   ]
  },
  {
   "cell_type": "markdown",
   "metadata": {},
   "source": [
    "### Purpose:\n",
    "The intention of this notebook is to examine the predictability of the Philadelphia Eagles' success over the years by attempting to answer the following questions: \n",
    "- Has their predictability (i.e. sports books' ability to accurately predict their expected game outcome) fluctuated from season to season?\n",
    "- Are they more/less favored to win based on some other known/unknown factor that isn't purely statistical? i.e. are there any trends in the data that might indicate some sort of bias may have been involved?  \n",
    "- Generally speaking, are the Eagles a predictable team? i.e. do they perform how they are expected to? \n",
    "\n"
   ]
  },
  {
   "cell_type": "markdown",
   "metadata": {},
   "source": [
    "### Background:\n",
    "\n",
    "For those who may be unfamiliar with American sports, the NFL, and/or the phenomenon of sports betting, I will start with a quick summary.\n",
    "\n",
    "The Philadelphia Eagles are an American football team in the National Football League (NFL). They are known for having some of the league's most rowdy and passionate fans, and for being not particularly successful, though not entirely unsuccessful either: they have won one Superbowl championship (2018) and three conference championships (1948,1949,1960). \n",
    "\n",
    "Sports betting is a form of gambling that has grown in popularity and legality over the years. Nowadays, there are several sports books (companies that offer betting lines that you can place bets on) around the world. Some of the most popular/successful sports books are those in the United States that have legalized the phenomenon in  <a href=\"https://www.cbssports.com/general/news/u-s-sports-betting-here-is-where-all-50-states-currently-stand-on-legalizing-online-sports-betting-sites/\" target=\"_blank\">a growing number of states</a> such as Draftkings and FanDuel.\n"
   ]
  },
  {
   "cell_type": "markdown",
   "metadata": {},
   "source": [
    "# OK Let's Get Started"
   ]
  },
  {
   "cell_type": "markdown",
   "metadata": {},
   "source": [
    "### Step 0: Setup"
   ]
  },
  {
   "cell_type": "code",
   "execution_count": 47,
   "metadata": {},
   "outputs": [
    {
     "name": "stdout",
     "output_type": "stream",
     "text": [
      "* Python version:\n",
      "3.8.7 (default, Jan 25 2021, 11:14:52) \n",
      "[GCC 5.5.0 20171010]\n",
      "\n",
      "* sqlite3 version: 2.6.0\n",
      "* pandas version: 1.4.0\n"
     ]
    }
   ],
   "source": [
    "import sys\n",
    "\n",
    "import sqlite3 as db\n",
    "import pandas as pd\n",
    "import numpy as np\n",
    "\n",
    "%matplotlib inline\n",
    "import matplotlib.pyplot as plt"
   ]
  },
  {
   "cell_type": "markdown",
   "metadata": {},
   "source": [
    "### Step 1: Import the data and take a look"
   ]
  },
  {
   "cell_type": "markdown",
   "metadata": {},
   "source": [
    "### Data: \n",
    "We will leverage a csv containing the final scores and betting line odds of all NFL games played since 2006.\n",
    " <a href=\"http://www.aussportsbetting.com/data/\" target=\"_blank\">_Source_</a>"
   ]
  },
  {
   "cell_type": "code",
   "execution_count": 3,
   "metadata": {},
   "outputs": [
    {
     "data": {
      "text/html": [
       "<div>\n",
       "<style scoped>\n",
       "    .dataframe tbody tr th:only-of-type {\n",
       "        vertical-align: middle;\n",
       "    }\n",
       "\n",
       "    .dataframe tbody tr th {\n",
       "        vertical-align: top;\n",
       "    }\n",
       "\n",
       "    .dataframe thead th {\n",
       "        text-align: right;\n",
       "    }\n",
       "</style>\n",
       "<table border=\"1\" class=\"dataframe\">\n",
       "  <thead>\n",
       "    <tr style=\"text-align: right;\">\n",
       "      <th></th>\n",
       "      <th>Date</th>\n",
       "      <th>Home Team</th>\n",
       "      <th>Away Team</th>\n",
       "      <th>Home Score</th>\n",
       "      <th>Away Score</th>\n",
       "      <th>Overtime?</th>\n",
       "      <th>Playoff Game?</th>\n",
       "      <th>Neutral Venue?</th>\n",
       "      <th>Home Odds Open</th>\n",
       "      <th>Home Odds Min</th>\n",
       "      <th>...</th>\n",
       "      <th>Total Score Close</th>\n",
       "      <th>Total Score Over Open</th>\n",
       "      <th>Total Score Over Min</th>\n",
       "      <th>Total Score Over Max</th>\n",
       "      <th>Total Score Over Close</th>\n",
       "      <th>Total Score Under Open</th>\n",
       "      <th>Total Score Under Min</th>\n",
       "      <th>Total Score Under Max</th>\n",
       "      <th>Total Score Under Close</th>\n",
       "      <th>Notes</th>\n",
       "    </tr>\n",
       "  </thead>\n",
       "  <tbody>\n",
       "    <tr>\n",
       "      <th>0</th>\n",
       "      <td>2023-12-04</td>\n",
       "      <td>Jacksonville Jaguars</td>\n",
       "      <td>Cincinnati Bengals</td>\n",
       "      <td>31</td>\n",
       "      <td>34</td>\n",
       "      <td>NaN</td>\n",
       "      <td>NaN</td>\n",
       "      <td>NaN</td>\n",
       "      <td>1.36</td>\n",
       "      <td>1.20</td>\n",
       "      <td>...</td>\n",
       "      <td>41.0</td>\n",
       "      <td>1.91</td>\n",
       "      <td>1.91</td>\n",
       "      <td>1.91</td>\n",
       "      <td>1.91</td>\n",
       "      <td>1.91</td>\n",
       "      <td>1.91</td>\n",
       "      <td>1.91</td>\n",
       "      <td>1.91</td>\n",
       "      <td>NaN</td>\n",
       "    </tr>\n",
       "    <tr>\n",
       "      <th>1</th>\n",
       "      <td>2023-12-03</td>\n",
       "      <td>Green Bay Packers</td>\n",
       "      <td>Kansas City Chiefs</td>\n",
       "      <td>27</td>\n",
       "      <td>19</td>\n",
       "      <td>NaN</td>\n",
       "      <td>NaN</td>\n",
       "      <td>NaN</td>\n",
       "      <td>3.50</td>\n",
       "      <td>2.90</td>\n",
       "      <td>...</td>\n",
       "      <td>44.0</td>\n",
       "      <td>1.91</td>\n",
       "      <td>1.91</td>\n",
       "      <td>1.91</td>\n",
       "      <td>1.91</td>\n",
       "      <td>1.91</td>\n",
       "      <td>1.91</td>\n",
       "      <td>1.91</td>\n",
       "      <td>1.91</td>\n",
       "      <td>NaN</td>\n",
       "    </tr>\n",
       "    <tr>\n",
       "      <th>2</th>\n",
       "      <td>2023-12-03</td>\n",
       "      <td>Los Angeles Rams</td>\n",
       "      <td>Cleveland Browns</td>\n",
       "      <td>36</td>\n",
       "      <td>19</td>\n",
       "      <td>NaN</td>\n",
       "      <td>NaN</td>\n",
       "      <td>NaN</td>\n",
       "      <td>1.87</td>\n",
       "      <td>1.45</td>\n",
       "      <td>...</td>\n",
       "      <td>39.5</td>\n",
       "      <td>1.91</td>\n",
       "      <td>1.91</td>\n",
       "      <td>1.91</td>\n",
       "      <td>1.91</td>\n",
       "      <td>1.91</td>\n",
       "      <td>1.91</td>\n",
       "      <td>1.91</td>\n",
       "      <td>1.91</td>\n",
       "      <td>NaN</td>\n",
       "    </tr>\n",
       "    <tr>\n",
       "      <th>3</th>\n",
       "      <td>2023-12-03</td>\n",
       "      <td>Houston Texans</td>\n",
       "      <td>Denver Broncos</td>\n",
       "      <td>22</td>\n",
       "      <td>17</td>\n",
       "      <td>NaN</td>\n",
       "      <td>NaN</td>\n",
       "      <td>NaN</td>\n",
       "      <td>1.67</td>\n",
       "      <td>1.52</td>\n",
       "      <td>...</td>\n",
       "      <td>47.0</td>\n",
       "      <td>1.91</td>\n",
       "      <td>1.91</td>\n",
       "      <td>1.91</td>\n",
       "      <td>1.91</td>\n",
       "      <td>1.91</td>\n",
       "      <td>1.91</td>\n",
       "      <td>1.91</td>\n",
       "      <td>1.91</td>\n",
       "      <td>NaN</td>\n",
       "    </tr>\n",
       "    <tr>\n",
       "      <th>4</th>\n",
       "      <td>2023-12-03</td>\n",
       "      <td>Philadelphia Eagles</td>\n",
       "      <td>San Francisco 49ers</td>\n",
       "      <td>19</td>\n",
       "      <td>42</td>\n",
       "      <td>NaN</td>\n",
       "      <td>NaN</td>\n",
       "      <td>NaN</td>\n",
       "      <td>1.71</td>\n",
       "      <td>1.71</td>\n",
       "      <td>...</td>\n",
       "      <td>46.5</td>\n",
       "      <td>1.91</td>\n",
       "      <td>1.91</td>\n",
       "      <td>1.91</td>\n",
       "      <td>1.91</td>\n",
       "      <td>1.91</td>\n",
       "      <td>1.91</td>\n",
       "      <td>1.91</td>\n",
       "      <td>1.91</td>\n",
       "      <td>NaN</td>\n",
       "    </tr>\n",
       "  </tbody>\n",
       "</table>\n",
       "<p>5 rows × 45 columns</p>\n",
       "</div>"
      ],
      "text/plain": [
       "         Date             Home Team            Away Team  Home Score  \\\n",
       "0  2023-12-04  Jacksonville Jaguars   Cincinnati Bengals          31   \n",
       "1  2023-12-03     Green Bay Packers   Kansas City Chiefs          27   \n",
       "2  2023-12-03      Los Angeles Rams     Cleveland Browns          36   \n",
       "3  2023-12-03        Houston Texans       Denver Broncos          22   \n",
       "4  2023-12-03   Philadelphia Eagles  San Francisco 49ers          19   \n",
       "\n",
       "   Away Score Overtime? Playoff Game? Neutral Venue?  Home Odds Open  \\\n",
       "0          34       NaN           NaN            NaN            1.36   \n",
       "1          19       NaN           NaN            NaN            3.50   \n",
       "2          19       NaN           NaN            NaN            1.87   \n",
       "3          17       NaN           NaN            NaN            1.67   \n",
       "4          42       NaN           NaN            NaN            1.71   \n",
       "\n",
       "   Home Odds Min  ...  Total Score Close  Total Score Over Open  \\\n",
       "0           1.20  ...               41.0                   1.91   \n",
       "1           2.90  ...               44.0                   1.91   \n",
       "2           1.45  ...               39.5                   1.91   \n",
       "3           1.52  ...               47.0                   1.91   \n",
       "4           1.71  ...               46.5                   1.91   \n",
       "\n",
       "   Total Score Over Min  Total Score Over Max  Total Score Over Close  \\\n",
       "0                  1.91                  1.91                    1.91   \n",
       "1                  1.91                  1.91                    1.91   \n",
       "2                  1.91                  1.91                    1.91   \n",
       "3                  1.91                  1.91                    1.91   \n",
       "4                  1.91                  1.91                    1.91   \n",
       "\n",
       "   Total Score Under Open  Total Score Under Min  Total Score Under Max  \\\n",
       "0                    1.91                   1.91                   1.91   \n",
       "1                    1.91                   1.91                   1.91   \n",
       "2                    1.91                   1.91                   1.91   \n",
       "3                    1.91                   1.91                   1.91   \n",
       "4                    1.91                   1.91                   1.91   \n",
       "\n",
       "   Total Score Under Close  Notes  \n",
       "0                     1.91    NaN  \n",
       "1                     1.91    NaN  \n",
       "2                     1.91    NaN  \n",
       "3                     1.91    NaN  \n",
       "4                     1.91    NaN  \n",
       "\n",
       "[5 rows x 45 columns]"
      ]
     },
     "execution_count": 3,
     "metadata": {},
     "output_type": "execute_result"
    }
   ],
   "source": [
    "data = pd.read_csv('nfl_lines_data.csv')\n",
    "data.head(5)"
   ]
  },
  {
   "cell_type": "markdown",
   "metadata": {},
   "source": [
    "#### The Data Explained:\n",
    "The fields we care about to help us answer the questions outlined are the following:\n",
    "- Date\n",
    "- Home Team\n",
    "- Away Team\n",
    "- Home Score\n",
    "- Away Score\n",
    "- Home Odds Open --> The opening predicted decimal odds that the home team will win or lose the game (also referred to as the Moneyline)\n",
    "- Away Odds Open --> The opening predicted decimal odds that the away team will win the game (also reffered to as the Moneyline)\n",
    "\n",
    "**Odds (also referred to as the moneyline) explained:**\n",
    "\n",
    "-100 (minus 100) odds or lower means that the team is favored to win the game. The lower the value, the more favored they are to win. <br>\n",
    "\n",
    "Ex.) -110 odds = team is barely favored to win; -2000 odds = team is highly favored to win.\n",
    "\n",
    "Alternately, a team with a moneyline that is +100 (plus 100) or higher is expected to lose the game.\n",
    "\n",
    "Ex.) + 110 odds = team is barely unfavored to win; +2000 odds = team is highly unfavored to win.\n",
    "\n"
   ]
  },
  {
   "cell_type": "markdown",
   "metadata": {},
   "source": [
    "\n",
    "### Step 2: Clean up the data "
   ]
  },
  {
   "cell_type": "markdown",
   "metadata": {},
   "source": [
    "Remove the columns we don't need"
   ]
  },
  {
   "cell_type": "code",
   "execution_count": 4,
   "metadata": {},
   "outputs": [
    {
     "data": {
      "text/html": [
       "<div>\n",
       "<style scoped>\n",
       "    .dataframe tbody tr th:only-of-type {\n",
       "        vertical-align: middle;\n",
       "    }\n",
       "\n",
       "    .dataframe tbody tr th {\n",
       "        vertical-align: top;\n",
       "    }\n",
       "\n",
       "    .dataframe thead th {\n",
       "        text-align: right;\n",
       "    }\n",
       "</style>\n",
       "<table border=\"1\" class=\"dataframe\">\n",
       "  <thead>\n",
       "    <tr style=\"text-align: right;\">\n",
       "      <th></th>\n",
       "      <th>Date</th>\n",
       "      <th>Home Team</th>\n",
       "      <th>Away Team</th>\n",
       "      <th>Home Score</th>\n",
       "      <th>Away Score</th>\n",
       "      <th>Home Odds Open</th>\n",
       "      <th>Away Odds Open</th>\n",
       "    </tr>\n",
       "  </thead>\n",
       "  <tbody>\n",
       "    <tr>\n",
       "      <th>0</th>\n",
       "      <td>2023-12-04</td>\n",
       "      <td>Jacksonville Jaguars</td>\n",
       "      <td>Cincinnati Bengals</td>\n",
       "      <td>31</td>\n",
       "      <td>34</td>\n",
       "      <td>1.36</td>\n",
       "      <td>3.30</td>\n",
       "    </tr>\n",
       "    <tr>\n",
       "      <th>1</th>\n",
       "      <td>2023-12-03</td>\n",
       "      <td>Green Bay Packers</td>\n",
       "      <td>Kansas City Chiefs</td>\n",
       "      <td>27</td>\n",
       "      <td>19</td>\n",
       "      <td>3.50</td>\n",
       "      <td>1.32</td>\n",
       "    </tr>\n",
       "    <tr>\n",
       "      <th>2</th>\n",
       "      <td>2023-12-03</td>\n",
       "      <td>Los Angeles Rams</td>\n",
       "      <td>Cleveland Browns</td>\n",
       "      <td>36</td>\n",
       "      <td>19</td>\n",
       "      <td>1.87</td>\n",
       "      <td>1.95</td>\n",
       "    </tr>\n",
       "    <tr>\n",
       "      <th>3</th>\n",
       "      <td>2023-12-03</td>\n",
       "      <td>Houston Texans</td>\n",
       "      <td>Denver Broncos</td>\n",
       "      <td>22</td>\n",
       "      <td>17</td>\n",
       "      <td>1.67</td>\n",
       "      <td>2.30</td>\n",
       "    </tr>\n",
       "    <tr>\n",
       "      <th>4</th>\n",
       "      <td>2023-12-03</td>\n",
       "      <td>Philadelphia Eagles</td>\n",
       "      <td>San Francisco 49ers</td>\n",
       "      <td>19</td>\n",
       "      <td>42</td>\n",
       "      <td>1.71</td>\n",
       "      <td>2.20</td>\n",
       "    </tr>\n",
       "  </tbody>\n",
       "</table>\n",
       "</div>"
      ],
      "text/plain": [
       "         Date             Home Team            Away Team  Home Score  \\\n",
       "0  2023-12-04  Jacksonville Jaguars   Cincinnati Bengals          31   \n",
       "1  2023-12-03     Green Bay Packers   Kansas City Chiefs          27   \n",
       "2  2023-12-03      Los Angeles Rams     Cleveland Browns          36   \n",
       "3  2023-12-03        Houston Texans       Denver Broncos          22   \n",
       "4  2023-12-03   Philadelphia Eagles  San Francisco 49ers          19   \n",
       "\n",
       "   Away Score  Home Odds Open  Away Odds Open  \n",
       "0          34            1.36            3.30  \n",
       "1          19            3.50            1.32  \n",
       "2          19            1.87            1.95  \n",
       "3          17            1.67            2.30  \n",
       "4          42            1.71            2.20  "
      ]
     },
     "execution_count": 4,
     "metadata": {},
     "output_type": "execute_result"
    }
   ],
   "source": [
    "data = data[['Date', 'Home Team', 'Away Team', 'Home Score', 'Away Score', 'Home Odds Open', 'Away Odds Open']]\n",
    "data.head(5)\n"
   ]
  },
  {
   "cell_type": "markdown",
   "metadata": {},
   "source": [
    "Rename the columns for consistency"
   ]
  },
  {
   "cell_type": "code",
   "execution_count": 5,
   "metadata": {},
   "outputs": [
    {
     "data": {
      "text/html": [
       "<div>\n",
       "<style scoped>\n",
       "    .dataframe tbody tr th:only-of-type {\n",
       "        vertical-align: middle;\n",
       "    }\n",
       "\n",
       "    .dataframe tbody tr th {\n",
       "        vertical-align: top;\n",
       "    }\n",
       "\n",
       "    .dataframe thead th {\n",
       "        text-align: right;\n",
       "    }\n",
       "</style>\n",
       "<table border=\"1\" class=\"dataframe\">\n",
       "  <thead>\n",
       "    <tr style=\"text-align: right;\">\n",
       "      <th></th>\n",
       "      <th>Date</th>\n",
       "      <th>Home_Team</th>\n",
       "      <th>Away_Team</th>\n",
       "      <th>Home_Score</th>\n",
       "      <th>Away_Score</th>\n",
       "      <th>Home_Odds</th>\n",
       "      <th>Away_Odds</th>\n",
       "    </tr>\n",
       "  </thead>\n",
       "  <tbody>\n",
       "    <tr>\n",
       "      <th>0</th>\n",
       "      <td>2023-12-04</td>\n",
       "      <td>Jacksonville Jaguars</td>\n",
       "      <td>Cincinnati Bengals</td>\n",
       "      <td>31</td>\n",
       "      <td>34</td>\n",
       "      <td>1.36</td>\n",
       "      <td>3.30</td>\n",
       "    </tr>\n",
       "    <tr>\n",
       "      <th>1</th>\n",
       "      <td>2023-12-03</td>\n",
       "      <td>Green Bay Packers</td>\n",
       "      <td>Kansas City Chiefs</td>\n",
       "      <td>27</td>\n",
       "      <td>19</td>\n",
       "      <td>3.50</td>\n",
       "      <td>1.32</td>\n",
       "    </tr>\n",
       "    <tr>\n",
       "      <th>2</th>\n",
       "      <td>2023-12-03</td>\n",
       "      <td>Los Angeles Rams</td>\n",
       "      <td>Cleveland Browns</td>\n",
       "      <td>36</td>\n",
       "      <td>19</td>\n",
       "      <td>1.87</td>\n",
       "      <td>1.95</td>\n",
       "    </tr>\n",
       "    <tr>\n",
       "      <th>3</th>\n",
       "      <td>2023-12-03</td>\n",
       "      <td>Houston Texans</td>\n",
       "      <td>Denver Broncos</td>\n",
       "      <td>22</td>\n",
       "      <td>17</td>\n",
       "      <td>1.67</td>\n",
       "      <td>2.30</td>\n",
       "    </tr>\n",
       "    <tr>\n",
       "      <th>4</th>\n",
       "      <td>2023-12-03</td>\n",
       "      <td>Philadelphia Eagles</td>\n",
       "      <td>San Francisco 49ers</td>\n",
       "      <td>19</td>\n",
       "      <td>42</td>\n",
       "      <td>1.71</td>\n",
       "      <td>2.20</td>\n",
       "    </tr>\n",
       "  </tbody>\n",
       "</table>\n",
       "</div>"
      ],
      "text/plain": [
       "         Date             Home_Team            Away_Team  Home_Score  \\\n",
       "0  2023-12-04  Jacksonville Jaguars   Cincinnati Bengals          31   \n",
       "1  2023-12-03     Green Bay Packers   Kansas City Chiefs          27   \n",
       "2  2023-12-03      Los Angeles Rams     Cleveland Browns          36   \n",
       "3  2023-12-03        Houston Texans       Denver Broncos          22   \n",
       "4  2023-12-03   Philadelphia Eagles  San Francisco 49ers          19   \n",
       "\n",
       "   Away_Score  Home_Odds  Away_Odds  \n",
       "0          34       1.36       3.30  \n",
       "1          19       3.50       1.32  \n",
       "2          19       1.87       1.95  \n",
       "3          17       1.67       2.30  \n",
       "4          42       1.71       2.20  "
      ]
     },
     "execution_count": 5,
     "metadata": {},
     "output_type": "execute_result"
    }
   ],
   "source": [
    "data = data.rename(columns={'Home Team': 'Home_Team',\n",
    "                           'Away Team': 'Away_Team',\n",
    "                           'Home Score': 'Home_Score',\n",
    "                           'Away Score': 'Away_Score',\n",
    "                           'Home Odds Open': 'Home_Odds',\n",
    "                           'Away Odds Open': 'Away_Odds'})\n",
    "data.head(5)"
   ]
  },
  {
   "cell_type": "markdown",
   "metadata": {},
   "source": [
    "Since I only care about the Philadelphia Eagles, let's remove all game records that don't involve them. "
   ]
  },
  {
   "cell_type": "code",
   "execution_count": 14,
   "metadata": {},
   "outputs": [
    {
     "name": "stdout",
     "output_type": "stream",
     "text": [
      "The Eagles played a total of 304 games since 2006. 152 were played at home in Philly and\n",
      "152 were played away. Here are the most recent 5:\n"
     ]
    }
   ],
   "source": [
    "eagles_home = (data['Home_Team'] == \"Philadelphia Eagles\")\n",
    "eagles_away = (data['Away_Team'] == \"Philadelphia Eagles\")\n",
    "data = data[eagles_home | eagles_away].reset_index(drop= True)\n",
    "\n",
    "print(f\"The Eagles played a total of {len(data)} games since 2006. {len(data[eagles_home])} were played at home in Philly and\") \n",
    "print(f\"{len(data[eagles_away])} were played away. Here are the most recent 5:\")\n",
    "# data.head(5)"
   ]
  },
  {
   "cell_type": "markdown",
   "metadata": {},
   "source": [
    "For simplicity and readability, let's translate the decimal odds into American odds (as explained above in Step 1)"
   ]
  },
  {
   "cell_type": "code",
   "execution_count": 15,
   "metadata": {
    "scrolled": false
   },
   "outputs": [
    {
     "data": {
      "text/html": [
       "<div>\n",
       "<style scoped>\n",
       "    .dataframe tbody tr th:only-of-type {\n",
       "        vertical-align: middle;\n",
       "    }\n",
       "\n",
       "    .dataframe tbody tr th {\n",
       "        vertical-align: top;\n",
       "    }\n",
       "\n",
       "    .dataframe thead th {\n",
       "        text-align: right;\n",
       "    }\n",
       "</style>\n",
       "<table border=\"1\" class=\"dataframe\">\n",
       "  <thead>\n",
       "    <tr style=\"text-align: right;\">\n",
       "      <th></th>\n",
       "      <th>Date</th>\n",
       "      <th>Home_Team</th>\n",
       "      <th>Away_Team</th>\n",
       "      <th>Home_Score</th>\n",
       "      <th>Away_Score</th>\n",
       "      <th>Home_Odds</th>\n",
       "      <th>Away_Odds</th>\n",
       "    </tr>\n",
       "  </thead>\n",
       "  <tbody>\n",
       "    <tr>\n",
       "      <th>0</th>\n",
       "      <td>2023-12-03</td>\n",
       "      <td>Philadelphia Eagles</td>\n",
       "      <td>San Francisco 49ers</td>\n",
       "      <td>19</td>\n",
       "      <td>42</td>\n",
       "      <td>-140.85</td>\n",
       "      <td>120.0</td>\n",
       "    </tr>\n",
       "    <tr>\n",
       "      <th>1</th>\n",
       "      <td>2023-11-26</td>\n",
       "      <td>Philadelphia Eagles</td>\n",
       "      <td>Buffalo Bills</td>\n",
       "      <td>37</td>\n",
       "      <td>34</td>\n",
       "      <td>-185.19</td>\n",
       "      <td>165.0</td>\n",
       "    </tr>\n",
       "    <tr>\n",
       "      <th>2</th>\n",
       "      <td>2023-11-20</td>\n",
       "      <td>Kansas City Chiefs</td>\n",
       "      <td>Philadelphia Eagles</td>\n",
       "      <td>17</td>\n",
       "      <td>21</td>\n",
       "      <td>-135.14</td>\n",
       "      <td>115.0</td>\n",
       "    </tr>\n",
       "    <tr>\n",
       "      <th>3</th>\n",
       "      <td>2023-11-05</td>\n",
       "      <td>Philadelphia Eagles</td>\n",
       "      <td>Dallas Cowboys</td>\n",
       "      <td>28</td>\n",
       "      <td>23</td>\n",
       "      <td>-158.73</td>\n",
       "      <td>140.0</td>\n",
       "    </tr>\n",
       "    <tr>\n",
       "      <th>4</th>\n",
       "      <td>2023-10-29</td>\n",
       "      <td>Washington Commanders</td>\n",
       "      <td>Philadelphia Eagles</td>\n",
       "      <td>31</td>\n",
       "      <td>38</td>\n",
       "      <td>210.00</td>\n",
       "      <td>-250.0</td>\n",
       "    </tr>\n",
       "  </tbody>\n",
       "</table>\n",
       "</div>"
      ],
      "text/plain": [
       "         Date              Home_Team            Away_Team  Home_Score  \\\n",
       "0  2023-12-03    Philadelphia Eagles  San Francisco 49ers          19   \n",
       "1  2023-11-26    Philadelphia Eagles        Buffalo Bills          37   \n",
       "2  2023-11-20     Kansas City Chiefs  Philadelphia Eagles          17   \n",
       "3  2023-11-05    Philadelphia Eagles       Dallas Cowboys          28   \n",
       "4  2023-10-29  Washington Commanders  Philadelphia Eagles          31   \n",
       "\n",
       "   Away_Score  Home_Odds  Away_Odds  \n",
       "0          42    -140.85      120.0  \n",
       "1          34    -185.19      165.0  \n",
       "2          21    -135.14      115.0  \n",
       "3          23    -158.73      140.0  \n",
       "4          38     210.00     -250.0  "
      ]
     },
     "execution_count": 15,
     "metadata": {},
     "output_type": "execute_result"
    }
   ],
   "source": [
    "#perform calculation transformation for odds >= 2.2\n",
    "data['Home_Odds'] = round(data['Home_Odds'].apply(lambda x: (x -1) * 100 if x >= 2 else x), 2)\n",
    "data['Away_Odds'] = round(data['Away_Odds'].apply(lambda x: (x -1) * 100 if x >= 2 else x), 2)\n",
    "\n",
    "#perform calculation for odds < 2\n",
    "data['Home_Odds'] = round(data['Home_Odds'].apply(lambda x: -100 / (x -1) if x < 2 else x),2)\n",
    "data['Away_Odds'] = round(data['Away_Odds'].apply(lambda x: -100 / (x -1) if x < 2 else x), 2)\n",
    "\n",
    "\n",
    "data.head(5)                            "
   ]
  },
  {
   "cell_type": "markdown",
   "metadata": {},
   "source": [
    "### Step 3: Create columns that will be used to perform the analysis"
   ]
  },
  {
   "cell_type": "markdown",
   "metadata": {},
   "source": [
    "Create a column that indicates whether the Eagles won or not."
   ]
  },
  {
   "cell_type": "code",
   "execution_count": 16,
   "metadata": {
    "scrolled": false
   },
   "outputs": [
    {
     "data": {
      "text/html": [
       "<div>\n",
       "<style scoped>\n",
       "    .dataframe tbody tr th:only-of-type {\n",
       "        vertical-align: middle;\n",
       "    }\n",
       "\n",
       "    .dataframe tbody tr th {\n",
       "        vertical-align: top;\n",
       "    }\n",
       "\n",
       "    .dataframe thead th {\n",
       "        text-align: right;\n",
       "    }\n",
       "</style>\n",
       "<table border=\"1\" class=\"dataframe\">\n",
       "  <thead>\n",
       "    <tr style=\"text-align: right;\">\n",
       "      <th></th>\n",
       "      <th>Date</th>\n",
       "      <th>Home_Team</th>\n",
       "      <th>Away_Team</th>\n",
       "      <th>Home_Score</th>\n",
       "      <th>Away_Score</th>\n",
       "      <th>Home_Odds</th>\n",
       "      <th>Away_Odds</th>\n",
       "      <th>Eagles_Won</th>\n",
       "    </tr>\n",
       "  </thead>\n",
       "  <tbody>\n",
       "    <tr>\n",
       "      <th>0</th>\n",
       "      <td>2023-12-03</td>\n",
       "      <td>Philadelphia Eagles</td>\n",
       "      <td>San Francisco 49ers</td>\n",
       "      <td>19</td>\n",
       "      <td>42</td>\n",
       "      <td>-140.85</td>\n",
       "      <td>120.0</td>\n",
       "      <td>0</td>\n",
       "    </tr>\n",
       "    <tr>\n",
       "      <th>1</th>\n",
       "      <td>2023-11-26</td>\n",
       "      <td>Philadelphia Eagles</td>\n",
       "      <td>Buffalo Bills</td>\n",
       "      <td>37</td>\n",
       "      <td>34</td>\n",
       "      <td>-185.19</td>\n",
       "      <td>165.0</td>\n",
       "      <td>1</td>\n",
       "    </tr>\n",
       "    <tr>\n",
       "      <th>2</th>\n",
       "      <td>2023-11-20</td>\n",
       "      <td>Kansas City Chiefs</td>\n",
       "      <td>Philadelphia Eagles</td>\n",
       "      <td>17</td>\n",
       "      <td>21</td>\n",
       "      <td>-135.14</td>\n",
       "      <td>115.0</td>\n",
       "      <td>1</td>\n",
       "    </tr>\n",
       "    <tr>\n",
       "      <th>3</th>\n",
       "      <td>2023-11-05</td>\n",
       "      <td>Philadelphia Eagles</td>\n",
       "      <td>Dallas Cowboys</td>\n",
       "      <td>28</td>\n",
       "      <td>23</td>\n",
       "      <td>-158.73</td>\n",
       "      <td>140.0</td>\n",
       "      <td>1</td>\n",
       "    </tr>\n",
       "    <tr>\n",
       "      <th>4</th>\n",
       "      <td>2023-10-29</td>\n",
       "      <td>Washington Commanders</td>\n",
       "      <td>Philadelphia Eagles</td>\n",
       "      <td>31</td>\n",
       "      <td>38</td>\n",
       "      <td>210.00</td>\n",
       "      <td>-250.0</td>\n",
       "      <td>1</td>\n",
       "    </tr>\n",
       "  </tbody>\n",
       "</table>\n",
       "</div>"
      ],
      "text/plain": [
       "         Date              Home_Team            Away_Team  Home_Score  \\\n",
       "0  2023-12-03    Philadelphia Eagles  San Francisco 49ers          19   \n",
       "1  2023-11-26    Philadelphia Eagles        Buffalo Bills          37   \n",
       "2  2023-11-20     Kansas City Chiefs  Philadelphia Eagles          17   \n",
       "3  2023-11-05    Philadelphia Eagles       Dallas Cowboys          28   \n",
       "4  2023-10-29  Washington Commanders  Philadelphia Eagles          31   \n",
       "\n",
       "   Away_Score  Home_Odds  Away_Odds Eagles_Won  \n",
       "0          42    -140.85      120.0          0  \n",
       "1          34    -185.19      165.0          1  \n",
       "2          21    -135.14      115.0          1  \n",
       "3          23    -158.73      140.0          1  \n",
       "4          38     210.00     -250.0          1  "
      ]
     },
     "execution_count": 16,
     "metadata": {},
     "output_type": "execute_result"
    }
   ],
   "source": [
    "def win_conditions(x):\n",
    "    if ((x['Home_Team'] == \"Philadelphia Eagles\") & (x['Home_Score'] > x['Away_Score'])) \\\n",
    "    | ((x['Away_Team'] == \"Philadelphia Eagles\") & (x['Away_Score'] > x['Home_Score'])):\n",
    "        return 1\n",
    "    elif (x['Home_Score'] == x['Away_Score']):\n",
    "        return \"Tie\"\n",
    "    else:\n",
    "        return 0\n",
    "    \n",
    "data['Eagles_Won'] = data.apply(win_conditions, axis=1)\n",
    "\n",
    "data.head(5)"
   ]
  },
  {
   "cell_type": "code",
   "execution_count": 17,
   "metadata": {},
   "outputs": [
    {
     "data": {
      "text/html": [
       "<div>\n",
       "<style scoped>\n",
       "    .dataframe tbody tr th:only-of-type {\n",
       "        vertical-align: middle;\n",
       "    }\n",
       "\n",
       "    .dataframe tbody tr th {\n",
       "        vertical-align: top;\n",
       "    }\n",
       "\n",
       "    .dataframe thead th {\n",
       "        text-align: right;\n",
       "    }\n",
       "</style>\n",
       "<table border=\"1\" class=\"dataframe\">\n",
       "  <thead>\n",
       "    <tr style=\"text-align: right;\">\n",
       "      <th></th>\n",
       "      <th>Date</th>\n",
       "      <th>Home_Team</th>\n",
       "      <th>Away_Team</th>\n",
       "      <th>Home_Score</th>\n",
       "      <th>Away_Score</th>\n",
       "      <th>Home_Odds</th>\n",
       "      <th>Away_Odds</th>\n",
       "      <th>Eagles_Won</th>\n",
       "    </tr>\n",
       "  </thead>\n",
       "  <tbody>\n",
       "    <tr>\n",
       "      <th>63</th>\n",
       "      <td>2020-09-27</td>\n",
       "      <td>Philadelphia Eagles</td>\n",
       "      <td>Cincinnati Bengals</td>\n",
       "      <td>23</td>\n",
       "      <td>23</td>\n",
       "      <td>-294.12</td>\n",
       "      <td>235.0</td>\n",
       "      <td>Tie</td>\n",
       "    </tr>\n",
       "    <tr>\n",
       "      <th>260</th>\n",
       "      <td>2008-11-16</td>\n",
       "      <td>Cincinnati Bengals</td>\n",
       "      <td>Philadelphia Eagles</td>\n",
       "      <td>13</td>\n",
       "      <td>13</td>\n",
       "      <td>330.00</td>\n",
       "      <td>-400.0</td>\n",
       "      <td>Tie</td>\n",
       "    </tr>\n",
       "  </tbody>\n",
       "</table>\n",
       "</div>"
      ],
      "text/plain": [
       "           Date            Home_Team            Away_Team  Home_Score  \\\n",
       "63   2020-09-27  Philadelphia Eagles   Cincinnati Bengals          23   \n",
       "260  2008-11-16   Cincinnati Bengals  Philadelphia Eagles          13   \n",
       "\n",
       "     Away_Score  Home_Odds  Away_Odds Eagles_Won  \n",
       "63           23    -294.12      235.0        Tie  \n",
       "260          13     330.00     -400.0        Tie  "
      ]
     },
     "execution_count": 17,
     "metadata": {},
     "output_type": "execute_result"
    }
   ],
   "source": [
    "#test that the ties were assigned properly\n",
    "ties = (data['Eagles_Won'] == \"Tie\")\n",
    "ties = data[ties]\n",
    "ties"
   ]
  },
  {
   "cell_type": "markdown",
   "metadata": {},
   "source": [
    "**Quick Insight on the two \"ties\":**\n",
    "\n",
    "Ties are extremely rare in the NFL as they only occur if there is still no winner after a full overtime period is played. Interesting to see that both the Eagles' ties occurred against the same opponent! Also, they both occurred during games in which the Eagles were favored. "
   ]
  },
  {
   "cell_type": "markdown",
   "metadata": {},
   "source": [
    "**Continuing on...**"
   ]
  },
  {
   "cell_type": "markdown",
   "metadata": {},
   "source": [
    "Create a column that indicates if the Eagles were favored to win or not."
   ]
  },
  {
   "cell_type": "code",
   "execution_count": 18,
   "metadata": {
    "scrolled": true
   },
   "outputs": [
    {
     "data": {
      "text/html": [
       "<div>\n",
       "<style scoped>\n",
       "    .dataframe tbody tr th:only-of-type {\n",
       "        vertical-align: middle;\n",
       "    }\n",
       "\n",
       "    .dataframe tbody tr th {\n",
       "        vertical-align: top;\n",
       "    }\n",
       "\n",
       "    .dataframe thead th {\n",
       "        text-align: right;\n",
       "    }\n",
       "</style>\n",
       "<table border=\"1\" class=\"dataframe\">\n",
       "  <thead>\n",
       "    <tr style=\"text-align: right;\">\n",
       "      <th></th>\n",
       "      <th>Date</th>\n",
       "      <th>Home_Team</th>\n",
       "      <th>Away_Team</th>\n",
       "      <th>Home_Score</th>\n",
       "      <th>Away_Score</th>\n",
       "      <th>Home_Odds</th>\n",
       "      <th>Away_Odds</th>\n",
       "      <th>Eagles_Won</th>\n",
       "      <th>Eagles_Favored</th>\n",
       "    </tr>\n",
       "  </thead>\n",
       "  <tbody>\n",
       "    <tr>\n",
       "      <th>0</th>\n",
       "      <td>2023-12-03</td>\n",
       "      <td>Philadelphia Eagles</td>\n",
       "      <td>San Francisco 49ers</td>\n",
       "      <td>19</td>\n",
       "      <td>42</td>\n",
       "      <td>-140.85</td>\n",
       "      <td>120.0</td>\n",
       "      <td>0</td>\n",
       "      <td>1</td>\n",
       "    </tr>\n",
       "    <tr>\n",
       "      <th>1</th>\n",
       "      <td>2023-11-26</td>\n",
       "      <td>Philadelphia Eagles</td>\n",
       "      <td>Buffalo Bills</td>\n",
       "      <td>37</td>\n",
       "      <td>34</td>\n",
       "      <td>-185.19</td>\n",
       "      <td>165.0</td>\n",
       "      <td>1</td>\n",
       "      <td>1</td>\n",
       "    </tr>\n",
       "    <tr>\n",
       "      <th>2</th>\n",
       "      <td>2023-11-20</td>\n",
       "      <td>Kansas City Chiefs</td>\n",
       "      <td>Philadelphia Eagles</td>\n",
       "      <td>17</td>\n",
       "      <td>21</td>\n",
       "      <td>-135.14</td>\n",
       "      <td>115.0</td>\n",
       "      <td>1</td>\n",
       "      <td>0</td>\n",
       "    </tr>\n",
       "    <tr>\n",
       "      <th>3</th>\n",
       "      <td>2023-11-05</td>\n",
       "      <td>Philadelphia Eagles</td>\n",
       "      <td>Dallas Cowboys</td>\n",
       "      <td>28</td>\n",
       "      <td>23</td>\n",
       "      <td>-158.73</td>\n",
       "      <td>140.0</td>\n",
       "      <td>1</td>\n",
       "      <td>1</td>\n",
       "    </tr>\n",
       "    <tr>\n",
       "      <th>4</th>\n",
       "      <td>2023-10-29</td>\n",
       "      <td>Washington Commanders</td>\n",
       "      <td>Philadelphia Eagles</td>\n",
       "      <td>31</td>\n",
       "      <td>38</td>\n",
       "      <td>210.00</td>\n",
       "      <td>-250.0</td>\n",
       "      <td>1</td>\n",
       "      <td>1</td>\n",
       "    </tr>\n",
       "  </tbody>\n",
       "</table>\n",
       "</div>"
      ],
      "text/plain": [
       "         Date              Home_Team            Away_Team  Home_Score  \\\n",
       "0  2023-12-03    Philadelphia Eagles  San Francisco 49ers          19   \n",
       "1  2023-11-26    Philadelphia Eagles        Buffalo Bills          37   \n",
       "2  2023-11-20     Kansas City Chiefs  Philadelphia Eagles          17   \n",
       "3  2023-11-05    Philadelphia Eagles       Dallas Cowboys          28   \n",
       "4  2023-10-29  Washington Commanders  Philadelphia Eagles          31   \n",
       "\n",
       "   Away_Score  Home_Odds  Away_Odds Eagles_Won  Eagles_Favored  \n",
       "0          42    -140.85      120.0          0               1  \n",
       "1          34    -185.19      165.0          1               1  \n",
       "2          21    -135.14      115.0          1               0  \n",
       "3          23    -158.73      140.0          1               1  \n",
       "4          38     210.00     -250.0          1               1  "
      ]
     },
     "execution_count": 18,
     "metadata": {},
     "output_type": "execute_result"
    }
   ],
   "source": [
    "def favored_conditions(s):\n",
    "    if ((s['Home_Team'] == \"Philadelphia Eagles\") & (s['Home_Odds'] < -110)) \\\n",
    "    | ((s['Away_Team'] == \"Philadelphia Eagles\") & (s['Away_Odds'] < -110)):\n",
    "        return 1\n",
    "    elif ((s['Home_Team'] == \"Philadelphia Eagles\") & (s['Home_Odds'] == -110)) \\\n",
    "    | ((s['Away_Team'] == \"Philadelphia Eagles\") & (s['Away_Odds'] == -110)): \n",
    "        return \"Even\"\n",
    "    else: \n",
    "        return 0\n",
    "    \n",
    "data['Eagles_Favored'] = data.apply(favored_conditions, axis=1)\n",
    "\n",
    "data.head(5)\n"
   ]
  },
  {
   "cell_type": "code",
   "execution_count": 19,
   "metadata": {
    "scrolled": true
   },
   "outputs": [
    {
     "data": {
      "text/html": [
       "<div>\n",
       "<style scoped>\n",
       "    .dataframe tbody tr th:only-of-type {\n",
       "        vertical-align: middle;\n",
       "    }\n",
       "\n",
       "    .dataframe tbody tr th {\n",
       "        vertical-align: top;\n",
       "    }\n",
       "\n",
       "    .dataframe thead th {\n",
       "        text-align: right;\n",
       "    }\n",
       "</style>\n",
       "<table border=\"1\" class=\"dataframe\">\n",
       "  <thead>\n",
       "    <tr style=\"text-align: right;\">\n",
       "      <th></th>\n",
       "      <th>Date</th>\n",
       "      <th>Home_Team</th>\n",
       "      <th>Away_Team</th>\n",
       "      <th>Home_Score</th>\n",
       "      <th>Away_Score</th>\n",
       "      <th>Home_Odds</th>\n",
       "      <th>Away_Odds</th>\n",
       "      <th>Eagles_Won</th>\n",
       "      <th>Eagles_Favored</th>\n",
       "    </tr>\n",
       "  </thead>\n",
       "  <tbody>\n",
       "  </tbody>\n",
       "</table>\n",
       "</div>"
      ],
      "text/plain": [
       "Empty DataFrame\n",
       "Columns: [Date, Home_Team, Away_Team, Home_Score, Away_Score, Home_Odds, Away_Odds, Eagles_Won, Eagles_Favored]\n",
       "Index: []"
      ]
     },
     "execution_count": 19,
     "metadata": {},
     "output_type": "execute_result"
    }
   ],
   "source": [
    "#investigate cases with even odds out of curiousity\n",
    "evens = (data['Eagles_Favored'] == \"Even\")\n",
    "evens = data[evens]\n",
    "evens"
   ]
  },
  {
   "cell_type": "markdown",
   "metadata": {},
   "source": [
    "**Food for thought**\n",
    "\n",
    "Interesting! The Eagles haven't played a single game since 2006 where they were predicted to have the equivalent likelihood of winning as their opponent, i.e. a \"Pick em-game\" with 50/50 odds of winning.\n",
    "\n",
    "This might suggest that perhaps the Eagles aren't a very predictable team according to the stats/algorithms being used by sports books. But can we further validate this? "
   ]
  },
  {
   "cell_type": "markdown",
   "metadata": {},
   "source": [
    "**Next... **\n",
    "\n",
    "Parse out the year from the Date column so that we can easily aggregate the predicatability by football season."
   ]
  },
  {
   "cell_type": "code",
   "execution_count": 20,
   "metadata": {
    "collapsed": true
   },
   "outputs": [],
   "source": [
    "data['Date'] = data['Date'].astype('datetime64[ns]')\n",
    "data['Year']= data['Date'].dt.year"
   ]
  },
  {
   "cell_type": "markdown",
   "metadata": {},
   "source": [
    "Create a new column ['Prediction_Correct'] that tells us whether or not the sports book's prediction was accurate (did they win when they were expected to win, or did they lose when they were expected to lose?) "
   ]
  },
  {
   "cell_type": "code",
   "execution_count": 23,
   "metadata": {
    "collapsed": true
   },
   "outputs": [],
   "source": [
    "def predictions(g):\n",
    "    if (g['Eagles_Won'] == g['Eagles_Favored']): \n",
    "        return 1\n",
    "    else: \n",
    "        return 0"
   ]
  },
  {
   "cell_type": "code",
   "execution_count": 27,
   "metadata": {},
   "outputs": [
    {
     "data": {
      "text/html": [
       "<div>\n",
       "<style scoped>\n",
       "    .dataframe tbody tr th:only-of-type {\n",
       "        vertical-align: middle;\n",
       "    }\n",
       "\n",
       "    .dataframe tbody tr th {\n",
       "        vertical-align: top;\n",
       "    }\n",
       "\n",
       "    .dataframe thead th {\n",
       "        text-align: right;\n",
       "    }\n",
       "</style>\n",
       "<table border=\"1\" class=\"dataframe\">\n",
       "  <thead>\n",
       "    <tr style=\"text-align: right;\">\n",
       "      <th></th>\n",
       "      <th>Date</th>\n",
       "      <th>Home_Team</th>\n",
       "      <th>Away_Team</th>\n",
       "      <th>Home_Score</th>\n",
       "      <th>Away_Score</th>\n",
       "      <th>Home_Odds</th>\n",
       "      <th>Away_Odds</th>\n",
       "      <th>Eagles_Won</th>\n",
       "      <th>Eagles_Favored</th>\n",
       "      <th>Year</th>\n",
       "      <th>Prediction_Correct</th>\n",
       "    </tr>\n",
       "  </thead>\n",
       "  <tbody>\n",
       "    <tr>\n",
       "      <th>0</th>\n",
       "      <td>2023-12-03</td>\n",
       "      <td>Philadelphia Eagles</td>\n",
       "      <td>San Francisco 49ers</td>\n",
       "      <td>19</td>\n",
       "      <td>42</td>\n",
       "      <td>-140.85</td>\n",
       "      <td>120.0</td>\n",
       "      <td>0</td>\n",
       "      <td>1</td>\n",
       "      <td>2023</td>\n",
       "      <td>0</td>\n",
       "    </tr>\n",
       "    <tr>\n",
       "      <th>1</th>\n",
       "      <td>2023-11-26</td>\n",
       "      <td>Philadelphia Eagles</td>\n",
       "      <td>Buffalo Bills</td>\n",
       "      <td>37</td>\n",
       "      <td>34</td>\n",
       "      <td>-185.19</td>\n",
       "      <td>165.0</td>\n",
       "      <td>1</td>\n",
       "      <td>1</td>\n",
       "      <td>2023</td>\n",
       "      <td>1</td>\n",
       "    </tr>\n",
       "    <tr>\n",
       "      <th>2</th>\n",
       "      <td>2023-11-20</td>\n",
       "      <td>Kansas City Chiefs</td>\n",
       "      <td>Philadelphia Eagles</td>\n",
       "      <td>17</td>\n",
       "      <td>21</td>\n",
       "      <td>-135.14</td>\n",
       "      <td>115.0</td>\n",
       "      <td>1</td>\n",
       "      <td>0</td>\n",
       "      <td>2023</td>\n",
       "      <td>0</td>\n",
       "    </tr>\n",
       "    <tr>\n",
       "      <th>3</th>\n",
       "      <td>2023-11-05</td>\n",
       "      <td>Philadelphia Eagles</td>\n",
       "      <td>Dallas Cowboys</td>\n",
       "      <td>28</td>\n",
       "      <td>23</td>\n",
       "      <td>-158.73</td>\n",
       "      <td>140.0</td>\n",
       "      <td>1</td>\n",
       "      <td>1</td>\n",
       "      <td>2023</td>\n",
       "      <td>1</td>\n",
       "    </tr>\n",
       "    <tr>\n",
       "      <th>4</th>\n",
       "      <td>2023-10-29</td>\n",
       "      <td>Washington Commanders</td>\n",
       "      <td>Philadelphia Eagles</td>\n",
       "      <td>31</td>\n",
       "      <td>38</td>\n",
       "      <td>210.00</td>\n",
       "      <td>-250.0</td>\n",
       "      <td>1</td>\n",
       "      <td>1</td>\n",
       "      <td>2023</td>\n",
       "      <td>1</td>\n",
       "    </tr>\n",
       "  </tbody>\n",
       "</table>\n",
       "</div>"
      ],
      "text/plain": [
       "        Date              Home_Team            Away_Team  Home_Score  \\\n",
       "0 2023-12-03    Philadelphia Eagles  San Francisco 49ers          19   \n",
       "1 2023-11-26    Philadelphia Eagles        Buffalo Bills          37   \n",
       "2 2023-11-20     Kansas City Chiefs  Philadelphia Eagles          17   \n",
       "3 2023-11-05    Philadelphia Eagles       Dallas Cowboys          28   \n",
       "4 2023-10-29  Washington Commanders  Philadelphia Eagles          31   \n",
       "\n",
       "   Away_Score  Home_Odds  Away_Odds Eagles_Won  Eagles_Favored  Year  \\\n",
       "0          42    -140.85      120.0          0               1  2023   \n",
       "1          34    -185.19      165.0          1               1  2023   \n",
       "2          21    -135.14      115.0          1               0  2023   \n",
       "3          23    -158.73      140.0          1               1  2023   \n",
       "4          38     210.00     -250.0          1               1  2023   \n",
       "\n",
       "   Prediction_Correct  \n",
       "0                   0  \n",
       "1                   1  \n",
       "2                   0  \n",
       "3                   1  \n",
       "4                   1  "
      ]
     },
     "execution_count": 27,
     "metadata": {},
     "output_type": "execute_result"
    }
   ],
   "source": [
    "data['Prediction_Correct'] = data.apply(predictions, axis=1)\n",
    "data.head()"
   ]
  },
  {
   "cell_type": "markdown",
   "metadata": {},
   "source": [
    "Finally, refine the final data set to only include what we need for the analysis"
   ]
  },
  {
   "cell_type": "code",
   "execution_count": 29,
   "metadata": {},
   "outputs": [
    {
     "data": {
      "text/html": [
       "<div>\n",
       "<style scoped>\n",
       "    .dataframe tbody tr th:only-of-type {\n",
       "        vertical-align: middle;\n",
       "    }\n",
       "\n",
       "    .dataframe tbody tr th {\n",
       "        vertical-align: top;\n",
       "    }\n",
       "\n",
       "    .dataframe thead th {\n",
       "        text-align: right;\n",
       "    }\n",
       "</style>\n",
       "<table border=\"1\" class=\"dataframe\">\n",
       "  <thead>\n",
       "    <tr style=\"text-align: right;\">\n",
       "      <th></th>\n",
       "      <th>Year</th>\n",
       "      <th>Prediction_Correct</th>\n",
       "    </tr>\n",
       "  </thead>\n",
       "  <tbody>\n",
       "    <tr>\n",
       "      <th>0</th>\n",
       "      <td>2023</td>\n",
       "      <td>0</td>\n",
       "    </tr>\n",
       "    <tr>\n",
       "      <th>1</th>\n",
       "      <td>2023</td>\n",
       "      <td>1</td>\n",
       "    </tr>\n",
       "    <tr>\n",
       "      <th>2</th>\n",
       "      <td>2023</td>\n",
       "      <td>0</td>\n",
       "    </tr>\n",
       "    <tr>\n",
       "      <th>3</th>\n",
       "      <td>2023</td>\n",
       "      <td>1</td>\n",
       "    </tr>\n",
       "    <tr>\n",
       "      <th>4</th>\n",
       "      <td>2023</td>\n",
       "      <td>1</td>\n",
       "    </tr>\n",
       "    <tr>\n",
       "      <th>...</th>\n",
       "      <td>...</td>\n",
       "      <td>...</td>\n",
       "    </tr>\n",
       "    <tr>\n",
       "      <th>299</th>\n",
       "      <td>2006</td>\n",
       "      <td>1</td>\n",
       "    </tr>\n",
       "    <tr>\n",
       "      <th>300</th>\n",
       "      <td>2006</td>\n",
       "      <td>1</td>\n",
       "    </tr>\n",
       "    <tr>\n",
       "      <th>301</th>\n",
       "      <td>2006</td>\n",
       "      <td>1</td>\n",
       "    </tr>\n",
       "    <tr>\n",
       "      <th>302</th>\n",
       "      <td>2006</td>\n",
       "      <td>0</td>\n",
       "    </tr>\n",
       "    <tr>\n",
       "      <th>303</th>\n",
       "      <td>2006</td>\n",
       "      <td>1</td>\n",
       "    </tr>\n",
       "  </tbody>\n",
       "</table>\n",
       "<p>304 rows × 2 columns</p>\n",
       "</div>"
      ],
      "text/plain": [
       "     Year  Prediction_Correct\n",
       "0    2023                   0\n",
       "1    2023                   1\n",
       "2    2023                   0\n",
       "3    2023                   1\n",
       "4    2023                   1\n",
       "..    ...                 ...\n",
       "299  2006                   1\n",
       "300  2006                   1\n",
       "301  2006                   1\n",
       "302  2006                   0\n",
       "303  2006                   1\n",
       "\n",
       "[304 rows x 2 columns]"
      ]
     },
     "execution_count": 29,
     "metadata": {},
     "output_type": "execute_result"
    }
   ],
   "source": [
    "final_data = data.copy() \n",
    "final_data = final_data.iloc[:, -2:] #want year, predictability score cols\n",
    "final_data"
   ]
  },
  {
   "cell_type": "code",
   "execution_count": 42,
   "metadata": {},
   "outputs": [
    {
     "name": "stdout",
     "output_type": "stream",
     "text": [
      "So far this season (it is now December 2023), the Eagles' outcome has been accurately predicted 12 times out of 18 games played.\n"
     ]
    }
   ],
   "source": [
    "print(f\"So far this season (it is now December 2023), the Eagles' outcome has been accurately predicted {final_data.loc[(final_data['Year'] == 2023), 'Prediction_Correct'].sum()} times out of {(final_data['Year'] == 2023).count()} games played.\")"
   ]
  },
  {
   "cell_type": "markdown",
   "metadata": {},
   "source": [
    "### Step 4: Perform Analysis"
   ]
  },
  {
   "cell_type": "markdown",
   "metadata": {},
   "source": [
    "Create a column that indicates the Eagles predictability factor aggregated at the season level.*"
   ]
  },
  {
   "cell_type": "markdown",
   "metadata": {},
   "source": [
    "_*I want to know whether each game was predicted correctly or not and we will call this the predictability factor.  For simplicity I will assume that if the prediction matches what the actual outcome of the game was, then the Eagles were predictable for that particular game. In reality, there would probably be several other factors incorporated into this equation to account for or analyze potential non-objective factors such as whether or not they were playing at home._"
   ]
  },
  {
   "cell_type": "code",
   "execution_count": 43,
   "metadata": {},
   "outputs": [
    {
     "data": {
      "text/html": [
       "<div>\n",
       "<style scoped>\n",
       "    .dataframe tbody tr th:only-of-type {\n",
       "        vertical-align: middle;\n",
       "    }\n",
       "\n",
       "    .dataframe tbody tr th {\n",
       "        vertical-align: top;\n",
       "    }\n",
       "\n",
       "    .dataframe thead th {\n",
       "        text-align: right;\n",
       "    }\n",
       "</style>\n",
       "<table border=\"1\" class=\"dataframe\">\n",
       "  <thead>\n",
       "    <tr style=\"text-align: right;\">\n",
       "      <th></th>\n",
       "      <th>Year</th>\n",
       "      <th>Predictability(%)</th>\n",
       "    </tr>\n",
       "  </thead>\n",
       "  <tbody>\n",
       "    <tr>\n",
       "      <th>0</th>\n",
       "      <td>2006</td>\n",
       "      <td>44.44</td>\n",
       "    </tr>\n",
       "    <tr>\n",
       "      <th>1</th>\n",
       "      <td>2007</td>\n",
       "      <td>50.00</td>\n",
       "    </tr>\n",
       "    <tr>\n",
       "      <th>2</th>\n",
       "      <td>2008</td>\n",
       "      <td>55.56</td>\n",
       "    </tr>\n",
       "    <tr>\n",
       "      <th>3</th>\n",
       "      <td>2009</td>\n",
       "      <td>72.22</td>\n",
       "    </tr>\n",
       "    <tr>\n",
       "      <th>4</th>\n",
       "      <td>2010</td>\n",
       "      <td>66.67</td>\n",
       "    </tr>\n",
       "    <tr>\n",
       "      <th>5</th>\n",
       "      <td>2011</td>\n",
       "      <td>38.89</td>\n",
       "    </tr>\n",
       "    <tr>\n",
       "      <th>6</th>\n",
       "      <td>2012</td>\n",
       "      <td>72.22</td>\n",
       "    </tr>\n",
       "    <tr>\n",
       "      <th>7</th>\n",
       "      <td>2013</td>\n",
       "      <td>50.00</td>\n",
       "    </tr>\n",
       "    <tr>\n",
       "      <th>8</th>\n",
       "      <td>2014</td>\n",
       "      <td>55.56</td>\n",
       "    </tr>\n",
       "    <tr>\n",
       "      <th>9</th>\n",
       "      <td>2015</td>\n",
       "      <td>33.33</td>\n",
       "    </tr>\n",
       "    <tr>\n",
       "      <th>10</th>\n",
       "      <td>2016</td>\n",
       "      <td>38.89</td>\n",
       "    </tr>\n",
       "    <tr>\n",
       "      <th>11</th>\n",
       "      <td>2017</td>\n",
       "      <td>72.22</td>\n",
       "    </tr>\n",
       "    <tr>\n",
       "      <th>12</th>\n",
       "      <td>2018</td>\n",
       "      <td>55.56</td>\n",
       "    </tr>\n",
       "    <tr>\n",
       "      <th>13</th>\n",
       "      <td>2019</td>\n",
       "      <td>55.56</td>\n",
       "    </tr>\n",
       "    <tr>\n",
       "      <th>14</th>\n",
       "      <td>2020</td>\n",
       "      <td>50.00</td>\n",
       "    </tr>\n",
       "    <tr>\n",
       "      <th>15</th>\n",
       "      <td>2021</td>\n",
       "      <td>61.11</td>\n",
       "    </tr>\n",
       "    <tr>\n",
       "      <th>16</th>\n",
       "      <td>2022</td>\n",
       "      <td>94.44</td>\n",
       "    </tr>\n",
       "    <tr>\n",
       "      <th>17</th>\n",
       "      <td>2023</td>\n",
       "      <td>66.67</td>\n",
       "    </tr>\n",
       "  </tbody>\n",
       "</table>\n",
       "</div>"
      ],
      "text/plain": [
       "    Year  Predictability(%)\n",
       "0   2006              44.44\n",
       "1   2007              50.00\n",
       "2   2008              55.56\n",
       "3   2009              72.22\n",
       "4   2010              66.67\n",
       "5   2011              38.89\n",
       "6   2012              72.22\n",
       "7   2013              50.00\n",
       "8   2014              55.56\n",
       "9   2015              33.33\n",
       "10  2016              38.89\n",
       "11  2017              72.22\n",
       "12  2018              55.56\n",
       "13  2019              55.56\n",
       "14  2020              50.00\n",
       "15  2021              61.11\n",
       "16  2022              94.44\n",
       "17  2023              66.67"
      ]
     },
     "execution_count": 43,
     "metadata": {},
     "output_type": "execute_result"
    }
   ],
   "source": [
    "final_data = final_data.groupby(['Year'], as_index=False).sum(['Prediction_Correct'])\n",
    "final_data['Predictability(%)'] = final_data['Prediction_Correct'] / len(final_data)\n",
    "final_data['Predictability(%)'] = round(final_data['Predictability(%)'] * 100, 2)\n",
    "#final_data['Predictability'] = round(final_data['Predictability'] * 100, 2).astype(str) + '%'\n",
    "final = final_data.loc[:,[\"Year\", \"Predictability(%)\"]]\n",
    "final"
   ]
  },
  {
   "cell_type": "markdown",
   "metadata": {},
   "source": [
    "Out of curiousity, what is their all-time predictability since 2006?"
   ]
  },
  {
   "cell_type": "code",
   "execution_count": 49,
   "metadata": {},
   "outputs": [
    {
     "name": "stdout",
     "output_type": "stream",
     "text": [
      "Since 2006 the Eagles have been 57.41% predictable. Not bad I suppose. It would be interesting to compare this against the predictability of other teams in the league.\n"
     ]
    }
   ],
   "source": [
    "print(f\"Since 2006 the Eagles have been {round(np.mean(final['Predictability(%)']),2)}% predictable. Not bad I suppose. It would be interesting to compare this against the predictability of other teams in the league.\")"
   ]
  },
  {
   "cell_type": "markdown",
   "metadata": {},
   "source": [
    "### Step 5: Visualize Result"
   ]
  },
  {
   "cell_type": "markdown",
   "metadata": {},
   "source": [
    "Create a time series graph that shows for each season how predictable the Eagles were using the predictability score (games predicted correct / # of games in the season)"
   ]
  },
  {
   "cell_type": "code",
   "execution_count": 46,
   "metadata": {},
   "outputs": [
    {
     "data": {
      "text/plain": [
       "Text(0.5, 1.0, 'Eagles Predictability by Season')"
      ]
     },
     "execution_count": 46,
     "metadata": {},
     "output_type": "execute_result"
    },
    {
     "data": {
      "image/png": "[encoded data removed]",
      "text/plain": [
       "<Figure size 1080x216 with 1 Axes>"
      ]
     },
     "metadata": {
      "needs_background": "light"
     },
     "output_type": "display_data"
    }
   ],
   "source": [
    "x = final['Year']\n",
    "y = final['Predictability(%)']\n",
    "\n",
    "plt.figure(figsize=(15,3))\n",
    "plt.xticks(x)\n",
    "plt.plot(x,y, color='g', linestyle='solid')\n",
    "plt.xlabel(\"Season\")\n",
    "plt.ylabel(\"Predictibility (%)\")\n",
    "plt.title(f\"Eagles Predictability by Season\")"
   ]
  },
  {
   "cell_type": "markdown",
   "metadata": {},
   "source": [
    "### Conclusion:"
   ]
  },
  {
   "cell_type": "markdown",
   "metadata": {
    "collapsed": true
   },
   "source": [
    "**Did it answer my questions? **\n",
    "\n",
    "Yes, but not as conclusively as I would have hoped. The line graph depicts the fact that the Eagles predictability is sort of all over the place, but this may be the very nature of sports odds in general. We might reasonably conclude that the outlier of 2022 wherein the Eagles were highly predictable is due to it being one of the Eagles most consistently high performing seasons, making it easier to predict their success. On the other hand, they ahve a couple seasons of particular unpredictability, namely in 2011, 2015 and 2016. A <a href=\"https://www.jt-sw.com/football/pro/teams.nsf/histories/eagles\" target=\"_blank\">quick google search</a> would show us that in those seasons, the Eagles record was close to even (meaning they won about as many games as they lost). Thus, it would make sense that those would be difficult games to predict the outcome of."
   ]
  },
  {
   "cell_type": "markdown",
   "metadata": {},
   "source": [
    "I was surprised to see that the overall predictability of the team hasn't improved gradually over time due to the very fact that machine learning and other statistical algorithms should be getting better at predicting these outcomes, but that doesn't necessarily seem to be the case."
   ]
  },
  {
   "cell_type": "markdown",
   "metadata": {
    "collapsed": true
   },
   "source": [
    "**A few things I would do differently next time: **\n",
    "- More visualizations \n",
    "- Incorporated more factors from other data sets to improve the concept and accuracy of the \"predictability factor\"\n",
    "- Chosen a different sport/team to analyze - one thats less conventional and aligns more with my own personal interests (see sidenote below)\n",
    "- Perform an additional analysis that investigates their predictability and favorability when they play at home. Using solely the mean we can see that they are typically always favored at home - but how does this correspond to their actual success at home?"
   ]
  },
  {
   "cell_type": "markdown",
   "metadata": {},
   "source": [
    "_Sidenote: While I am, in fact, a Philadelphia Eagles fan myself, I would have really loved to do this analysis on a less conventional/more globally respected team such as the US womens national soccer team or UCONN womens basketball team. I scoured the web for\n",
    "this type of open source data, but alas and as expected, it wasn't readily available like this NFL data was. In a world where I had more time to find and scrape such data from online sources, I would have preferred it._\n",
    "\n",
    "\n"
   ]
  },
  {
   "cell_type": "markdown",
   "metadata": {},
   "source": [
    "## **Thank you to those who made it this far! Cheers and Go Birds!**"
   ]
  }
 ],
 "metadata": {
  "kernelspec": {
   "display_name": "Python 3.8",
   "language": "python",
   "name": "python38"
  },
  "language_info": {
   "codemirror_mode": {
    "name": "ipython",
    "version": 3
   },
   "file_extension": ".py",
   "mimetype": "text/x-python",
   "name": "python",
   "nbconvert_exporter": "python",
   "pygments_lexer": "ipython3",
   "version": "3.8.7"
  }
 },
 "nbformat": 4,
 "nbformat_minor": 2
}
